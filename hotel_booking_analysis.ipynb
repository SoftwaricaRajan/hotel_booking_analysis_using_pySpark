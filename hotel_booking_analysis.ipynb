{
 "cells": [
  {
   "cell_type": "code",
   "execution_count": 1,
   "id": "11c31b8b",
   "metadata": {},
   "outputs": [],
   "source": [
    "from pyspark.sql import SparkSession\n",
    "from pyspark.sql.functions import * # A better practice would be importing only necessary functions (like comments below)\n",
    "# from pyspark.sql.functions import col, sum, count, avg, round\n",
    "# from pyspark.sql.functions import length, desc, expr, sum, count\n",
    "# import pyspark\n",
    "\n",
    "spark = SparkSession.builder.appName(\"HotelAnalysis\").master(\"local[*]\").getOrCreate()"
   ]
  },
  {
   "cell_type": "code",
   "execution_count": 2,
   "id": "03706688",
   "metadata": {},
   "outputs": [],
   "source": [
    "hotel_bookings_path = \"hotel_bookings.csv\"\n",
    "hotelBooking = spark.read.csv(hotel_bookings_path, inferSchema=True, header=True) # DataFrame type"
   ]
  },
  {
   "cell_type": "code",
   "execution_count": 3,
   "id": "41c2f540",
   "metadata": {},
   "outputs": [
    {
     "name": "stdout",
     "output_type": "stream",
     "text": [
      "root\n",
      " |-- hotel: string (nullable = true)\n",
      " |-- is_canceled: integer (nullable = true)\n",
      " |-- lead_time: integer (nullable = true)\n",
      " |-- arrival_date_year: integer (nullable = true)\n",
      " |-- arrival_date_month: string (nullable = true)\n",
      " |-- arrival_date_week_number: integer (nullable = true)\n",
      " |-- arrival_date_day_of_month: integer (nullable = true)\n",
      " |-- stays_in_weekend_nights: integer (nullable = true)\n",
      " |-- stays_in_week_nights: integer (nullable = true)\n",
      " |-- adults: integer (nullable = true)\n",
      " |-- children: string (nullable = true)\n",
      " |-- babies: integer (nullable = true)\n",
      " |-- meal: string (nullable = true)\n",
      " |-- country: string (nullable = true)\n",
      " |-- market_segment: string (nullable = true)\n",
      " |-- distribution_channel: string (nullable = true)\n",
      " |-- is_repeated_guest: integer (nullable = true)\n",
      " |-- previous_cancellations: integer (nullable = true)\n",
      " |-- previous_bookings_not_canceled: integer (nullable = true)\n",
      " |-- reserved_room_type: string (nullable = true)\n",
      " |-- assigned_room_type: string (nullable = true)\n",
      " |-- booking_changes: integer (nullable = true)\n",
      " |-- deposit_type: string (nullable = true)\n",
      " |-- agent: string (nullable = true)\n",
      " |-- company: string (nullable = true)\n",
      " |-- days_in_waiting_list: integer (nullable = true)\n",
      " |-- customer_type: string (nullable = true)\n",
      " |-- adr: double (nullable = true)\n",
      " |-- required_car_parking_spaces: integer (nullable = true)\n",
      " |-- total_of_special_requests: integer (nullable = true)\n",
      " |-- reservation_status: string (nullable = true)\n",
      " |-- reservation_status_date: date (nullable = true)\n",
      "\n"
     ]
    }
   ],
   "source": [
    "# Show the schema of the data\n",
    "hotelBooking.printSchema()"
   ]
  },
  {
   "cell_type": "code",
   "execution_count": 4,
   "id": "fd02e0bd",
   "metadata": {},
   "outputs": [
    {
     "name": "stdout",
     "output_type": "stream",
     "text": [
      "+-----+------------+-----------+-----------------+------------------+------+----------+----------+------------------+---------------------+\n",
      "|index|       hotel|is_canceled|arrival_date_year|arrival_date_month|   adr|num_nights|num_guests|total_booking_cost|avr_booking_per_guest|\n",
      "+-----+------------+-----------+-----------------+------------------+------+----------+----------+------------------+---------------------+\n",
      "|    2|Resort Hotel|          0|             2015|              July|  75.0|         1|         1|              75.0|                 75.0|\n",
      "|    3|Resort Hotel|          0|             2015|              July|  75.0|         1|         1|              75.0|                 75.0|\n",
      "|    4|Resort Hotel|          0|             2015|              July|  98.0|         2|         2|             196.0|                 98.0|\n",
      "|    5|Resort Hotel|          0|             2015|              July|  98.0|         2|         2|             196.0|                 98.0|\n",
      "|    6|Resort Hotel|          0|             2015|              July| 107.0|         2|         2|             214.0|                107.0|\n",
      "|    7|Resort Hotel|          0|             2015|              July| 103.0|         2|         2|             206.0|                103.0|\n",
      "|    8|Resort Hotel|          1|             2015|              July|  82.0|         3|         2|             246.0|                123.0|\n",
      "|    9|Resort Hotel|          1|             2015|              July| 105.5|         3|         2|             316.5|               158.25|\n",
      "|   10|Resort Hotel|          1|             2015|              July| 123.0|         4|         2|             492.0|                246.0|\n",
      "|   11|Resort Hotel|          0|             2015|              July| 145.0|         4|         2|             580.0|                290.0|\n",
      "|   12|Resort Hotel|          0|             2015|              July|  97.0|         4|         2|             388.0|                194.0|\n",
      "|   13|Resort Hotel|          0|             2015|              July|154.77|         4|         3|            619.08|               206.36|\n",
      "|   14|Resort Hotel|          0|             2015|              July| 94.71|         4|         2|            378.84|               189.42|\n",
      "|   15|Resort Hotel|          0|             2015|              July|  97.0|         4|         2|             388.0|                194.0|\n",
      "|   16|Resort Hotel|          0|             2015|              July|  97.5|         4|         2|             390.0|                195.0|\n",
      "|   17|Resort Hotel|          0|             2015|              July|  88.2|         1|         2|              88.2|                 44.1|\n",
      "|   18|Resort Hotel|          0|             2015|              July|107.42|         1|         2|            107.42|                53.71|\n",
      "|   19|Resort Hotel|          0|             2015|              July| 153.0|         4|         2|             612.0|                306.0|\n",
      "|   20|Resort Hotel|          0|             2015|              July| 97.29|         5|         1|            486.45|               486.45|\n",
      "|   21|Resort Hotel|          0|             2015|              July| 84.67|         6|         2|            508.02|               254.01|\n",
      "+-----+------------+-----------+-----------------+------------------+------+----------+----------+------------------+---------------------+\n",
      "only showing top 20 rows\n",
      "\n"
     ]
    }
   ],
   "source": [
    "hotelBooking_index = (\n",
    "    hotelBooking\n",
    "    .select(\"*\")\n",
    "    .withColumn(\"index\", monotonically_increasing_id())\n",
    ")\n",
    "\n",
    "# After cleaning, remove this import statement\n",
    "import pyspark.sql.types as T\n",
    "\n",
    "features = [\"index\",\"hotel\",\"is_canceled\",\"arrival_date_year\",\n",
    "            \"arrival_date_month\",\"adr\",\"num_nights\",\"num_guests\"]\n",
    "\n",
    "hotelBookingCost = (\n",
    "    hotelBooking_index\n",
    "    .withColumn(\"num_guests\", (col(\"adults\") + col(\"children\") + col(\"babies\")).cast(T.IntegerType()))\n",
    "    .withColumn(\"num_nights\", (col(\"stays_in_weekend_nights\") + col(\"stays_in_week_nights\").cast(T.IntegerType())))\n",
    ").select(*features)\n",
    "\n",
    "# Removed rows with average daily rate of 0.0\n",
    "# Alternative Approach (for dealing with 0.0 value in adr column) in the following cell \n",
    "hotelBookingCostFiltered = (\n",
    "    hotelBookingCost\n",
    "    .filter((col(\"adr\") != 0) & (col(\"num_nights\") != 0) & (col(\"num_guests\") != 0))\n",
    ")\n",
    "\n",
    "summaryHotelBookingCost = (\n",
    "    hotelBookingCostFiltered\n",
    "    .withColumn(\"total_booking_cost\", round(col(\"num_nights\") * col(\"adr\"),2))\n",
    "    .withColumn(\"avr_booking_per_guest\", round(col(\"total_booking_cost\") / col(\"num_guests\"),2))\n",
    ")\n",
    "\n",
    "summaryHotelBookingCost.show()"
   ]
  },
  {
   "cell_type": "code",
   "execution_count": 5,
   "id": "d0a6109b",
   "metadata": {},
   "outputs": [
    {
     "name": "stdout",
     "output_type": "stream",
     "text": [
      "Computing Average Daily Rate for each pair of year and month: \n",
      "+-----------------+------------------+-----------+\n",
      "|arrival_date_year|arrival_date_month|average_adr|\n",
      "+-----------------+------------------+-----------+\n",
      "|             2015|          November|      62.34|\n",
      "|             2015|          December|      77.39|\n",
      "|             2015|           October|      81.07|\n",
      "|             2015|         September|      96.81|\n",
      "|             2015|              July|     100.07|\n",
      "|             2015|            August|     108.58|\n",
      "+-----------------+------------------+-----------+\n",
      "\n",
      "Finalized table with adjusted average daily rate: \n",
      "+------------+-----------+----------+----------+-------------+\n",
      "|       hotel|is_canceled|num_nights|num_guests|finalized_adr|\n",
      "+------------+-----------+----------+----------+-------------+\n",
      "|Resort Hotel|          0|         1|         1|         75.0|\n",
      "|Resort Hotel|          0|         1|         1|         75.0|\n",
      "|Resort Hotel|          0|         2|         2|         98.0|\n",
      "|Resort Hotel|          0|         2|         2|         98.0|\n",
      "|Resort Hotel|          0|         2|         2|        107.0|\n",
      "|Resort Hotel|          0|         2|         2|        103.0|\n",
      "|Resort Hotel|          1|         3|         2|         82.0|\n",
      "|Resort Hotel|          1|         3|         2|        105.5|\n",
      "|Resort Hotel|          1|         4|         2|        123.0|\n",
      "|Resort Hotel|          0|         4|         2|        145.0|\n",
      "|Resort Hotel|          0|         4|         2|         97.0|\n",
      "|Resort Hotel|          0|         4|         3|       154.77|\n",
      "|Resort Hotel|          0|         4|         2|        94.71|\n",
      "|Resort Hotel|          0|         4|         2|         97.0|\n",
      "|Resort Hotel|          0|         4|         2|         97.5|\n",
      "|Resort Hotel|          0|         1|         2|         88.2|\n",
      "|Resort Hotel|          0|         1|         2|       107.42|\n",
      "|Resort Hotel|          0|         4|         2|        153.0|\n",
      "|Resort Hotel|          0|         5|         1|        97.29|\n",
      "|Resort Hotel|          0|         6|         2|        84.67|\n",
      "+------------+-----------+----------+----------+-------------+\n",
      "only showing top 20 rows\n",
      "\n",
      "Summary: \n",
      "+------------+-----------+----------+----------+-------------+------------------+---------------------+\n",
      "|       hotel|is_canceled|num_nights|num_guests|finalized_adr|total_booking_cost|avr_booking_per_guest|\n",
      "+------------+-----------+----------+----------+-------------+------------------+---------------------+\n",
      "|Resort Hotel|          0|         1|         1|         75.0|              75.0|                 75.0|\n",
      "|Resort Hotel|          0|         1|         1|         75.0|              75.0|                 75.0|\n",
      "|Resort Hotel|          0|         2|         2|         98.0|             196.0|                 98.0|\n",
      "|Resort Hotel|          0|         2|         2|         98.0|             196.0|                 98.0|\n",
      "|Resort Hotel|          0|         2|         2|        107.0|             214.0|                107.0|\n",
      "|Resort Hotel|          0|         2|         2|        103.0|             206.0|                103.0|\n",
      "|Resort Hotel|          1|         3|         2|         82.0|             246.0|                123.0|\n",
      "|Resort Hotel|          1|         3|         2|        105.5|             316.5|               158.25|\n",
      "|Resort Hotel|          1|         4|         2|        123.0|             492.0|                246.0|\n",
      "|Resort Hotel|          0|         4|         2|        145.0|             580.0|                290.0|\n",
      "|Resort Hotel|          0|         4|         2|         97.0|             388.0|                194.0|\n",
      "|Resort Hotel|          0|         4|         3|       154.77|            619.08|               206.36|\n",
      "|Resort Hotel|          0|         4|         2|        94.71|            378.84|               189.42|\n",
      "|Resort Hotel|          0|         4|         2|         97.0|             388.0|                194.0|\n",
      "|Resort Hotel|          0|         4|         2|         97.5|             390.0|                195.0|\n",
      "|Resort Hotel|          0|         1|         2|         88.2|              88.2|                 44.1|\n",
      "|Resort Hotel|          0|         1|         2|       107.42|            107.42|                53.71|\n",
      "|Resort Hotel|          0|         4|         2|        153.0|             612.0|                306.0|\n",
      "|Resort Hotel|          0|         5|         1|        97.29|            486.45|               486.45|\n",
      "|Resort Hotel|          0|         6|         2|        84.67|            508.02|               254.01|\n",
      "+------------+-----------+----------+----------+-------------+------------------+---------------------+\n",
      "only showing top 20 rows\n",
      "\n"
     ]
    }
   ],
   "source": [
    "\n",
    "# Find the average adr of each month\n",
    "adrByMonth = (\n",
    "    hotelBooking_index\n",
    "    .select(\"arrival_date_year\",\"arrival_date_month\", \"adr\")\n",
    ")\n",
    "\n",
    "adrByMonthFiltered = (\n",
    "    adrByMonth\n",
    "    .filter(col(\"adr\") != 0)\n",
    ")\n",
    "\n",
    "avrByYearMonth = (\n",
    "    adrByMonthFiltered\n",
    "    .groupBy(\"arrival_date_year\",\"arrival_date_month\")\n",
    "    .agg(\n",
    "        round(avg(col(\"adr\")),2).alias(\"average_adr\")\n",
    "    )\n",
    ").orderBy(\"arrival_date_year\",\"average_adr\")\n",
    "\n",
    "print(\"Computing Average Daily Rate for each pair of year and month: \")\n",
    "avrByYearMonth.filter(col(\"arrival_date_year\") == \"2015\").show()\n",
    "\n",
    "# LEFT JOIN: hotelBookingCost and avrByYearMonth\n",
    "# conditions := condition for performing LEFT JOIN operation\n",
    "conditions = (\n",
    "    (hotelBookingCost[\"arrival_date_year\"] == avrByYearMonth[\"arrival_date_year\"]) &\n",
    "    (hotelBookingCost[\"arrival_date_month\"] == avrByYearMonth[\"arrival_date_month\"])\n",
    ")\n",
    "\n",
    "final_features = [\"hotel\",\"is_canceled\",\"num_nights\",\"num_guests\",\"finalized_adr\"]\n",
    "\n",
    "joinedHotelBookingAdr = (\n",
    "    hotelBookingCost\n",
    "    .filter((col(\"num_nights\") != 0) & (col(\"num_guests\") != 0))\n",
    "    .join(avrByYearMonth, conditions ,\"left\")\n",
    "    .withColumn(\"finalized_adr\", when(col(\"adr\").cast(T.IntegerType()) == 0, col(\"average_adr\"))\n",
    "                                .otherwise(col(\"adr\")))\n",
    ").select(*final_features)\n",
    "\n",
    "print(\"Finalized table with adjusted average daily rate: \")\n",
    "joinedHotelBookingAdr.show()\n",
    "\n",
    "summaryHotelBookingCostALT = (\n",
    "    joinedHotelBookingAdr\n",
    "    .withColumn(\"total_booking_cost\", round(col(\"num_nights\") * col(\"finalized_adr\"),2))\n",
    "    .withColumn(\"avr_booking_per_guest\", round(col(\"total_booking_cost\") / col(\"num_guests\"),2))\n",
    ")\n",
    "\n",
    "print(\"Summary: \")\n",
    "summaryHotelBookingCostALT.show()"
   ]
  },
  {
   "cell_type": "code",
   "execution_count": 6,
   "id": "a2aaf9bf",
   "metadata": {},
   "outputs": [
    {
     "name": "stdout",
     "output_type": "stream",
     "text": [
      "Hotel Revenue Summary: \n",
      "+------------+----------------+-------------+-------------+-----------------------+\n",
      "|       hotel|expected_revenue|      revenue| revenue_lost|revenue_lost_percentage|\n",
      "+------------+----------------+-------------+-------------+-----------------------+\n",
      "|Resort Hotel|   17,559,414.91|11,696,738.17| 5,862,676.74|                  33.39|\n",
      "|  City Hotel|   25,416,514.35|14,516,135.68|10,900,378.67|                  42.89|\n",
      "+------------+----------------+-------------+-------------+-----------------------+\n",
      "\n"
     ]
    }
   ],
   "source": [
    "#explore how much does the hotel earned and lost\n",
    "hotelRevenue = (\n",
    "    summaryHotelBookingCostALT\n",
    "    .groupBy(\"hotel\")\n",
    "    .agg(\n",
    "        sum(\"total_booking_cost\").alias(\"expected_revenue\"),\n",
    "        sum(expr(f\"CASE WHEN is_canceled = 1 THEN total_booking_cost ELSE 0 END\")).alias(\"revenue_lost\"),\n",
    "        (col(\"expected_revenue\") - col(\"revenue_lost\")).alias(\"revenue\"),\n",
    "        (col(\"revenue_lost\") * 100 / col(\"expected_revenue\")).alias(\"revenue_lost_percentage\")\n",
    "    )\n",
    "    .select(\n",
    "        col(\"hotel\"),\n",
    "        format_number(col(\"expected_revenue\"), 2).alias(\"expected_revenue\"),\n",
    "        format_number(col(\"revenue\"),2).alias(\"revenue\"),\n",
    "        format_number(col(\"revenue_lost\"), 2).alias(\"revenue_lost\"),\n",
    "        round(col(\"revenue_lost_percentage\"),2).alias(\"revenue_lost_percentage\")\n",
    "    )\n",
    ")\n",
    "\n",
    "print(\"Hotel Revenue Summary: \")\n",
    "hotelRevenue.show()"
   ]
  },
  {
   "cell_type": "code",
   "execution_count": 9,
   "id": "57a8028a",
   "metadata": {},
   "outputs": [
    {
     "name": "stdout",
     "output_type": "stream",
     "text": [
      "Describe the percentage of guest that get the room they requested: \n",
      "+------------+--------------------------+\n",
      "|       hotel|getting_requested_room_per|\n",
      "+------------+--------------------------+\n",
      "|Resort Hotel|                     80.72|\n",
      "|  City Hotel|                     90.93|\n",
      "+------------+--------------------------+\n",
      "\n",
      "Relationship between Booking Cancellation and Not getting assigned room\n",
      "+------------+-----------------------+------------------+-------------------------------+\n",
      "|       hotel|total_not_assinged_room|total_cancellation|canceled_not_requested_room_per|\n",
      "+------------+-----------------------+------------------+-------------------------------+\n",
      "|Resort Hotel|                  10738|             11122|                          96.55|\n",
      "|  City Hotel|                  32684|             33102|                          98.74|\n",
      "+------------+-----------------------+------------------+-------------------------------+\n",
      "\n"
     ]
    }
   ],
   "source": [
    "\n",
    "room_features = [\"hotel\",\"is_canceled\",\"reserved_room_type\",\"assigned_room_type\",\"isRequestedRoom\"]\n",
    "\n",
    "reservedRoom = (\n",
    "    hotelBooking\n",
    "    .withColumn(\"isRequestedRoom\", when(col(\"reserved_room_type\") == col(\"assigned_room_type\"), 1)\n",
    "                                  .otherwise(0))\n",
    ").select(*room_features)\n",
    "\n",
    "hotelReservedRoom = (\n",
    "    reservedRoom\n",
    "    .groupBy(\"hotel\")\n",
    "    .agg(\n",
    "        round((sum(col(\"isRequestedRoom\")) * 100 / count(col(\"hotel\"))),2).alias(\"getting_requested_room_per\")\n",
    "    )\n",
    ")\n",
    "print(\"Describe the percentage of guest that get the room they requested: \")\n",
    "hotelReservedRoom.show()\n",
    "\n",
    "# Out of all the canceled reservation, how many reservation does the guest didn't get the requested room\n",
    "print(\"Relationship between Booking Cancellation and Not getting assigned room\")\n",
    "canceledReservationRoomDiff = (\n",
    "    reservedRoom\n",
    "    .filter(col(\"is_canceled\") == 1)\n",
    "    .groupBy(\"hotel\")\n",
    "    .agg(\n",
    "        sum(col(\"isRequestedRoom\")).alias(\"total_not_assinged_room\"),\n",
    "        count(\"hotel\").alias(\"total_cancellation\"),\n",
    "        round((sum(col(\"isRequestedRoom\")) * 100 / count(\"hotel\")),2).alias(\"canceled_not_requested_room_per\")\n",
    "    )\n",
    ")\n",
    "\n",
    "canceledReservationRoomDiff.show()"
   ]
  },
  {
   "cell_type": "code",
   "execution_count": 10,
   "id": "e0da5ebc",
   "metadata": {},
   "outputs": [
    {
     "name": "stdout",
     "output_type": "stream",
     "text": [
      "+------------+-----------------+----------------+-------------------+-----------------------+-------------+\n",
      "|       hotel|cancellation_rate|returnGuest_rate|total_prev_canceled|total_prev_not_canceled|total_booking|\n",
      "+------------+-----------------+----------------+-------------------+-----------------------+-------------+\n",
      "|Resort Hotel|            27.76|            4.44|               4075|                   5867|        40060|\n",
      "|  City Hotel|            41.73|            2.56|               6326|                  10501|        79330|\n",
      "+------------+-----------------+----------------+-------------------+-----------------------+-------------+\n",
      "\n"
     ]
    }
   ],
   "source": [
    "# Return Guests at the hotel\n",
    "# What exactly is the meaning of previous_cancellations and previous_bookings_not_canceled\n",
    "\n",
    "guestReturningHist = (\n",
    "    hotelBooking\n",
    "    .select(\"hotel\",\"is_canceled\",\"is_repeated_guest\",\"previous_cancellations\",\"previous_bookings_not_canceled\")\n",
    "    .groupBy(\"hotel\")\n",
    "    .agg(\n",
    "        round((sum(\"is_canceled\") * 100 / count(\"hotel\")),2).alias(\"cancellation_rate\"), \n",
    "        round((sum(\"is_repeated_guest\") * 100 / count(\"hotel\")),2).alias(\"returnGuest_rate\"), \n",
    "        sum(\"previous_cancellations\").alias(\"total_prev_canceled\"), \n",
    "        sum(\"previous_bookings_not_canceled\").alias(\"total_prev_not_canceled\"), \n",
    "        count(\"hotel\").alias(\"total_booking\")\n",
    "    )\n",
    ")\n",
    "    \n",
    "\n",
    "guestReturningHist.show()"
   ]
  },
  {
   "cell_type": "code",
   "execution_count": 11,
   "id": "08a0871f",
   "metadata": {},
   "outputs": [
    {
     "name": "stdout",
     "output_type": "stream",
     "text": [
      "Customer Type and Total Cancellation\n",
      "+---------------+--------------+\n",
      "|  customer_type|total_canceled|\n",
      "+---------------+--------------+\n",
      "|      Transient|         36514|\n",
      "|Transient-Party|          6389|\n",
      "|       Contract|          1262|\n",
      "|          Group|            59|\n",
      "+---------------+--------------+\n",
      "\n"
     ]
    }
   ],
   "source": [
    "# Another approach. Create temp view and use SQL queries \n",
    "hotelBooking.createOrReplaceTempView(\"hotel_booking\")\n",
    "\n",
    "\n",
    "queries = \"\"\"\n",
    "    select \n",
    "        customer_type,\n",
    "        sum(is_canceled) as total_canceled\n",
    "    from hotel_booking\n",
    "    group by customer_type\n",
    "    order by total_canceled desc\n",
    "\"\"\"\n",
    "\n",
    "customerTypeSQL = spark.sql(queries)\n",
    "\n",
    "print(\"Customer Type and Total Cancellation\")\n",
    "customerTypeSQL.show()"
   ]
  },
  {
   "cell_type": "code",
   "execution_count": 12,
   "id": "c0549844",
   "metadata": {},
   "outputs": [
    {
     "name": "stdout",
     "output_type": "stream",
     "text": [
      "Agent and Customer Type Relation Analysis: \n",
      "+-----+------------+---------------+------------------+---------------+-----------------+-----------------------+\n",
      "|agent|       hotel|  customer_type|total_cancellation|customer_number|cancellation_rate|total_prev_cancellation|\n",
      "+-----+------------+---------------+------------------+---------------+-----------------+-----------------------+\n",
      "|    1|  City Hotel|       Contract|               700|            700|            100.0|                    701|\n",
      "|    1|  City Hotel|          Group|                 0|              2|              0.0|                      0|\n",
      "|    1|  City Hotel|      Transient|              2974|           3021|            98.44|                    612|\n",
      "|    1|  City Hotel|Transient-Party|              1556|           3414|            45.58|                   1138|\n",
      "|    1|Resort Hotel|      Transient|                50|             54|            92.59|                      0|\n",
      "|    2|  City Hotel|      Transient|                 3|              8|             37.5|                      1|\n",
      "|    2|  City Hotel|Transient-Party|                24|             52|            46.15|                      3|\n",
      "|    2|Resort Hotel|       Contract|                 4|             81|             4.94|                      0|\n",
      "|    2|Resort Hotel|      Transient|                 3|             21|            14.29|                      1|\n",
      "|    3|  City Hotel|          Group|                 0|              2|              0.0|                      0|\n",
      "|    3|  City Hotel|      Transient|               638|            674|            94.66|                    109|\n",
      "|    3|  City Hotel|Transient-Party|               129|            632|            20.41|                     80|\n",
      "|    3|Resort Hotel|          Group|                 0|              1|              0.0|                      0|\n",
      "|    3|Resort Hotel|      Transient|                 2|             18|            11.11|                      0|\n",
      "|    3|Resort Hotel|Transient-Party|                 2|              9|            22.22|                      0|\n",
      "|    4|  City Hotel|      Transient|                 8|              8|            100.0|                      8|\n",
      "|    4|  City Hotel|Transient-Party|                23|             39|            58.97|                     23|\n",
      "|    5|  City Hotel|      Transient|               102|            102|            100.0|                     74|\n",
      "|    5|Resort Hotel|          Group|                 0|              6|              0.0|                      0|\n",
      "|    5|Resort Hotel|      Transient|                45|            182|            24.73|                      4|\n",
      "+-----+------------+---------------+------------------+---------------+-----------------+-----------------------+\n",
      "only showing top 20 rows\n",
      "\n"
     ]
    }
   ],
   "source": [
    "# Customer Type, Agent, and Company\n",
    "from pyspark.sql.types import IntegerType\n",
    "\n",
    "customerAgentRelation = hotelBooking \\\n",
    "    .select(\"hotel\",\"is_canceled\",\"customer_type\",col(\"agent\").cast(IntegerType()), \"previous_cancellations\") \\\n",
    "    .filter(col(\"agent\").isNotNull()) \\\n",
    "    .groupBy(\"agent\",\"hotel\",\"customer_type\") \\\n",
    "    .agg(\n",
    "        sum(\"is_canceled\").alias(\"total_cancellation\"), \\\n",
    "        count(\"customer_type\").alias(\"customer_number\"), \\\n",
    "        round((col(\"total_cancellation\") * 100 / col(\"customer_number\")),2).alias(\"cancellation_rate\"), \\\n",
    "        sum(\"previous_cancellations\").alias(\"total_prev_cancellation\") # Recheck this \n",
    "    ).orderBy(asc(\"agent\"), \"hotel\", \"customer_type\")\n",
    "\n",
    "print(\"Agent and Customer Type Relation Analysis: \")\n",
    "# customerAgentRelation.show(customerAgentRelation.count())\n",
    "\n",
    "customerAgentRelation.show(20)"
   ]
  },
  {
   "cell_type": "code",
   "execution_count": 13,
   "id": "194e8b63",
   "metadata": {},
   "outputs": [
    {
     "name": "stdout",
     "output_type": "stream",
     "text": [
      "+--------------------+------------------+\n",
      "|average_cancellation|    avg_cancel_per|\n",
      "+--------------------+------------------+\n",
      "| 0.37041628277075134|37.041628277075134|\n",
      "+--------------------+------------------+\n",
      "\n"
     ]
    }
   ],
   "source": [
    "# Overall cancellation rate (and in percentage) of this dataset\n",
    "hotelBooking.select(expr(\"avg(is_canceled) as average_cancellation\")).withColumn(\"avg_cancel_per\", col(\"average_cancellation\") * 100).show()"
   ]
  },
  {
   "cell_type": "code",
   "execution_count": 14,
   "id": "5df7da86",
   "metadata": {},
   "outputs": [
    {
     "name": "stdout",
     "output_type": "stream",
     "text": [
      "+------------+------------------+\n",
      "|       hotel|  avg(is_canceled)|\n",
      "+------------+------------------+\n",
      "|Resort Hotel|0.3045744246648457|\n",
      "|  City Hotel|0.4282784870574025|\n",
      "+------------+------------------+\n",
      "\n"
     ]
    }
   ],
   "source": [
    "# Average Booking Volumes for each Agent\n",
    "# Average Booking cancellation for each hotel when the booking is done via an agent\n",
    "hotelBooking.select(\"hotel\",\"is_canceled\",col(\"agent\").cast(IntegerType())).filter(col(\"agent\").isNotNull()) \\\n",
    ".groupBy(\"hotel\").avg(\"is_canceled\").show()"
   ]
  },
  {
   "cell_type": "code",
   "execution_count": 15,
   "id": "4a6f208e",
   "metadata": {},
   "outputs": [
    {
     "name": "stdout",
     "output_type": "stream",
     "text": [
      "+-----+------------+-----------------+\n",
      "|agent|       hotel|total_transaction|\n",
      "+-----+------------+-----------------+\n",
      "|    1|Resort Hotel|               54|\n",
      "|    1|  City Hotel|             7137|\n",
      "|    2|Resort Hotel|              102|\n",
      "|    2|  City Hotel|               60|\n",
      "|    3|Resort Hotel|               28|\n",
      "|    3|  City Hotel|             1308|\n",
      "|    4|  City Hotel|               47|\n",
      "|    5|Resort Hotel|              228|\n",
      "|    5|  City Hotel|              102|\n",
      "|    6|Resort Hotel|              607|\n",
      "|    6|  City Hotel|             2683|\n",
      "|    7|  City Hotel|             3539|\n",
      "|    8|Resort Hotel|              278|\n",
      "|    8|  City Hotel|             1236|\n",
      "|    9|Resort Hotel|                6|\n",
      "|    9|  City Hotel|            31955|\n",
      "|   10|Resort Hotel|               13|\n",
      "|   10|  City Hotel|              247|\n",
      "|   11|  City Hotel|              290|\n",
      "|   11|Resort Hotel|              105|\n",
      "+-----+------------+-----------------+\n",
      "only showing top 20 rows\n",
      "\n"
     ]
    }
   ],
   "source": [
    "hotelBooking.select(\"hotel\",\"is_canceled\",col(\"agent\").cast(IntegerType())).filter(col(\"agent\").isNotNull()) \\\n",
    ".groupBy(\"agent\",\"hotel\").agg(count(\"agent\").alias(\"total_transaction\")).orderBy(\"agent\").show()"
   ]
  },
  {
   "cell_type": "code",
   "execution_count": 16,
   "id": "4addcfe4",
   "metadata": {},
   "outputs": [
    {
     "name": "stdout",
     "output_type": "stream",
     "text": [
      "+-----+-----------+----------------------+\n",
      "|agent|is_canceled|previous_cancellations|\n",
      "+-----+-----------+----------------------+\n",
      "|    1|          1|                     0|\n",
      "|    1|          1|                     1|\n",
      "|    1|          0|                     0|\n",
      "|    1|          1|                     1|\n",
      "|    1|          1|                     0|\n",
      "|    1|          1|                     1|\n",
      "|    1|          0|                     0|\n",
      "|    1|          1|                     1|\n",
      "|    1|          1|                     0|\n",
      "|    1|          1|                     1|\n",
      "|    1|          0|                     0|\n",
      "|    1|          1|                     1|\n",
      "|    1|          1|                     0|\n",
      "|    1|          1|                     1|\n",
      "|    1|          0|                     0|\n",
      "|    1|          1|                     1|\n",
      "|    1|          1|                     0|\n",
      "|    1|          1|                     1|\n",
      "|    1|          0|                     0|\n",
      "|    1|          1|                     1|\n",
      "+-----+-----------+----------------------+\n",
      "only showing top 20 rows\n",
      "\n"
     ]
    }
   ],
   "source": [
    "# Agent, Booking Cancellation, and Track record of previous cancellation\n",
    "hotelBooking.select(col(\"agent\").cast(IntegerType()),\"is_canceled\",\"previous_cancellations\").filter(col(\"agent\").isNotNull()) \\\n",
    ".orderBy(\"agent\").show()"
   ]
  },
  {
   "cell_type": "code",
   "execution_count": 17,
   "id": "30eab0f6",
   "metadata": {},
   "outputs": [
    {
     "name": "stdout",
     "output_type": "stream",
     "text": [
      "+--------------+--------------+-------------+-----------------------+\n",
      "|market_segment|total_canceled|total_booking|cancellation_percentage|\n",
      "+--------------+--------------+-------------+-----------------------+\n",
      "|     Undefined|             2|            2|                  100.0|\n",
      "|        Groups|         12097|        19811|                  61.06|\n",
      "|     Online TA|         20739|        56477|                  36.72|\n",
      "| Offline TA/TO|          8311|        24219|                  34.32|\n",
      "|      Aviation|            52|          237|                  21.94|\n",
      "|     Corporate|           992|         5295|                  18.73|\n",
      "|        Direct|          1934|        12606|                  15.34|\n",
      "| Complementary|            97|          743|                  13.06|\n",
      "+--------------+--------------+-------------+-----------------------+\n",
      "\n",
      "Using SQL Queries\n",
      "+--------------+--------------+-------------+-----------------------+\n",
      "|market_segment|total_canceled|total_booking|cancellation_percentage|\n",
      "+--------------+--------------+-------------+-----------------------+\n",
      "|     Undefined|             2|            2|                  100.0|\n",
      "|        Groups|         12097|        19811|                  61.06|\n",
      "|     Online TA|         20739|        56477|                  36.72|\n",
      "| Offline TA/TO|          8311|        24219|                  34.32|\n",
      "|      Aviation|            52|          237|                  21.94|\n",
      "|     Corporate|           992|         5295|                  18.73|\n",
      "|        Direct|          1934|        12606|                  15.34|\n",
      "| Complementary|            97|          743|                  13.06|\n",
      "+--------------+--------------+-------------+-----------------------+\n",
      "\n"
     ]
    }
   ],
   "source": [
    "# QUESTION: Cancelation by market Segment\n",
    "bookingMarketSegment = hotelBooking \\\n",
    "    .select(\"hotel\",\"is_canceled\",\"market_segment\",\"deposit_type\",\"customer_type\")\\\n",
    "    .groupBy(\"market_segment\")\\\n",
    "    .agg(\n",
    "        sum(\"is_canceled\").alias(\"total_canceled\"),\\\n",
    "        count(\"market_segment\").alias(\"total_booking\")\n",
    "    ).withColumn(\"cancellation_percentage\", round(col(\"total_canceled\") * 100 / col(\"total_booking\"),2)) \\\n",
    "    .orderBy(desc(\"cancellation_percentage\"))\n",
    "\n",
    "bookingMarketSegment.show()\n",
    "\n",
    "\n",
    "# Just showing that there are multiple ways of doing this \n",
    "\n",
    "print(\"Using SQL Queries\")\n",
    "# Register the DataFrame as a temporary view\n",
    "hotelBooking.createOrReplaceTempView(\"hotel_booking\")\n",
    "\n",
    "# Execute the SQL query\n",
    "bookingMarketSegment_SQL = spark.sql(\"\"\"\n",
    "    SELECT market_segment,\n",
    "           SUM(is_canceled) AS total_canceled,\n",
    "           COUNT(market_segment) AS total_booking,\n",
    "           ROUND(SUM(is_canceled) * 100 / COUNT(market_segment), 2) AS cancellation_percentage\n",
    "    FROM hotel_booking\n",
    "    GROUP BY market_segment\n",
    "    ORDER BY cancellation_percentage DESC\n",
    "\"\"\")\n",
    "\n",
    "bookingMarketSegment_SQL.show()"
   ]
  },
  {
   "cell_type": "code",
   "execution_count": 18,
   "id": "7edaf35b",
   "metadata": {},
   "outputs": [
    {
     "name": "stdout",
     "output_type": "stream",
     "text": [
      "+-------+------------------+-------------+-----------------------+\n",
      "|country|total_cancellation|total_booking|cancellation_percentage|\n",
      "+-------+------------------+-------------+-----------------------+\n",
      "|    PRT|             27519|        48590|                  56.64|\n",
      "|    GBR|              2453|        12129|                  20.22|\n",
      "|    ESP|              2177|         8568|                  25.41|\n",
      "|    FRA|              1934|        10415|                  18.57|\n",
      "|    ITA|              1333|         3766|                   35.4|\n",
      "|    DEU|              1218|         7287|                  16.71|\n",
      "|    IRL|               832|         3375|                  24.65|\n",
      "|    BRA|               830|         2224|                  37.32|\n",
      "|    USA|               501|         2097|                  23.89|\n",
      "|    BEL|               474|         2342|                  20.24|\n",
      "|    CHN|               462|          999|                  46.25|\n",
      "|    CHE|               428|         1730|                  24.74|\n",
      "|    NLD|               387|         2104|                  18.39|\n",
      "|     CN|               254|         1279|                  19.86|\n",
      "|    RUS|               239|          632|                  37.82|\n",
      "|    AUT|               230|         1263|                  18.21|\n",
      "|    SWE|               227|         1024|                  22.17|\n",
      "|    POL|               215|          919|                  23.39|\n",
      "|    AGO|               205|          362|                  56.63|\n",
      "|    NOR|               181|          607|                  29.82|\n",
      "+-------+------------------+-------------+-----------------------+\n",
      "only showing top 20 rows\n",
      "\n"
     ]
    }
   ],
   "source": [
    "# QUESTION: Countries distribution and their cancellation\n",
    "\n",
    "bookingCountry = hotelBooking.select(\"hotel\",\"is_canceled\",\"country\")\n",
    "\n",
    "canceledBookingCountry = bookingCountry\\\n",
    "    .groupBy(\"country\")\\\n",
    "    .agg(\n",
    "        sum(\"is_canceled\").alias(\"total_cancellation\"), \\\n",
    "        count(\"country\").alias(\"total_booking\"), \\\n",
    "    ).withColumn(\"cancellation_percentage\", round(col(\"total_cancellation\") * 100 / col(\"total_booking\"),2)) \\\n",
    "    .orderBy(desc(\"total_cancellation\"))\n",
    "\n",
    "canceledBookingCountry.show()"
   ]
  },
  {
   "cell_type": "code",
   "execution_count": 19,
   "id": "afe74381",
   "metadata": {},
   "outputs": [
    {
     "name": "stdout",
     "output_type": "stream",
     "text": [
      "+------------+-----------+------+--------+------+--------------+\n",
      "|       hotel|is_canceled|adults|children|babies|canceld_string|\n",
      "+------------+-----------+------+--------+------+--------------+\n",
      "|Resort Hotel|          0|     2|       0|     0|            No|\n",
      "|Resort Hotel|          0|     2|       0|     0|            No|\n",
      "|Resort Hotel|          0|     1|       0|     0|            No|\n",
      "|Resort Hotel|          0|     1|       0|     0|            No|\n",
      "|Resort Hotel|          0|     2|       0|     0|            No|\n",
      "|Resort Hotel|          0|     2|       0|     0|            No|\n",
      "|Resort Hotel|          0|     2|       0|     0|            No|\n",
      "|Resort Hotel|          0|     2|       0|     0|            No|\n",
      "|Resort Hotel|          1|     2|       0|     0|           Yes|\n",
      "|Resort Hotel|          1|     2|       0|     0|           Yes|\n",
      "|Resort Hotel|          1|     2|       0|     0|           Yes|\n",
      "|Resort Hotel|          0|     2|       0|     0|            No|\n",
      "|Resort Hotel|          0|     2|       0|     0|            No|\n",
      "|Resort Hotel|          0|     2|       1|     0|            No|\n",
      "|Resort Hotel|          0|     2|       0|     0|            No|\n",
      "|Resort Hotel|          0|     2|       0|     0|            No|\n",
      "|Resort Hotel|          0|     2|       0|     0|            No|\n",
      "|Resort Hotel|          0|     2|       0|     0|            No|\n",
      "|Resort Hotel|          0|     2|       0|     0|            No|\n",
      "|Resort Hotel|          0|     2|       0|     0|            No|\n",
      "+------------+-----------+------+--------+------+--------------+\n",
      "only showing top 20 rows\n",
      "\n"
     ]
    }
   ],
   "source": [
    "# QUESTION: Adualt, Chldren, and Babies at the Hotel\n",
    "\n",
    "guestDistribution = hotelBooking \\\n",
    "    .select(\"hotel\",\"is_canceled\",\"adults\",\"children\",\"babies\") \\\n",
    "    .withColumn(\"canceld_string\", expr(\"case when is_canceled = 0 then 'No' else 'Yes' end\")) \\\n",
    "    \n",
    "guestDistribution.show()"
   ]
  },
  {
   "cell_type": "code",
   "execution_count": 20,
   "id": "982f962f",
   "metadata": {},
   "outputs": [
    {
     "name": "stdout",
     "output_type": "stream",
     "text": [
      "+------+------------+----------+-----------------+---------------+-----------------+-------------+\n",
      "|adults|num_children|num_babies|total_cancelation|total_via_agent|total_via_company|total_booking|\n",
      "+------+------------+----------+-----------------+---------------+-----------------+-------------+\n",
      "|     0|       453.0|         3|              109|            326|               31|          403|\n",
      "|     1|       605.0|        22|             6674|          15717|             4747|        23027|\n",
      "|     2|     10778.0|       911|            35258|          81163|             1955|        89680|\n",
      "|     3|       565.0|        12|             2151|           5789|               63|         6202|\n",
      "|     4|         2.0|         1|               16|             50|                1|           62|\n",
      "|     5|         0.0|         0|                2|              0|                0|            2|\n",
      "|     6|         0.0|         0|                1|              0|                0|            1|\n",
      "|    10|         0.0|         0|                1|              0|                0|            1|\n",
      "|    20|         0.0|         0|                2|              0|                0|            2|\n",
      "|    26|         0.0|         0|                5|              5|                0|            5|\n",
      "|    27|         0.0|         0|                2|              0|                0|            2|\n",
      "|    40|         0.0|         0|                1|              0|                0|            1|\n",
      "|    50|         0.0|         0|                1|              0|                0|            1|\n",
      "|    55|         0.0|         0|                1|              0|                0|            1|\n",
      "+------+------------+----------+-----------------+---------------+-----------------+-------------+\n",
      "\n"
     ]
    }
   ],
   "source": [
    "# ADULT\n",
    "adultBooking = hotelBooking \\\n",
    "    .select(\"adults\",\"children\",\"babies\",\"agent\",\"company\",\"is_canceled\") \\\n",
    "    .withColumn(\"via_agent\", expr(\"case when agent >=0 then 1 else 0 end\")) \\\n",
    "    .withColumn(\"via_company\", expr(\"case when company >=0 then 1 else 0 end\")) \\\n",
    "    .groupBy(\"adults\") \\\n",
    "    .agg( \n",
    "        sum(\"children\").alias(\"num_children\"), \\\n",
    "        sum(\"babies\").alias(\"num_babies\"), \\\n",
    "        sum(\"is_canceled\").alias(\"total_cancelation\"), \\\n",
    "        sum(\"via_agent\").alias(\"total_via_agent\"), \\\n",
    "        sum(\"via_company\").alias(\"total_via_company\"), \\\n",
    "        count(\"adults\").alias(\"total_booking\"), \\\n",
    "    ).orderBy(col(\"adults\"))\n",
    "\n",
    "adultBooking.show()"
   ]
  },
  {
   "cell_type": "code",
   "execution_count": 21,
   "id": "b30c7408",
   "metadata": {},
   "outputs": [
    {
     "name": "stdout",
     "output_type": "stream",
     "text": [
      "+------------+-----------+------------------+-----------------------+--------------------+-----------+\n",
      "|       hotel|is_canceled|arrival_date_month|stays_in_weekend_nights|stays_in_week_nights|total_night|\n",
      "+------------+-----------+------------------+-----------------------+--------------------+-----------+\n",
      "|Resort Hotel|          0|              July|                      1|                   4|          5|\n",
      "|Resort Hotel|          0|              July|                      2|                   4|          6|\n",
      "|Resort Hotel|          0|              July|                      2|                   4|          6|\n",
      "|Resort Hotel|          0|              July|                      2|                   4|          6|\n",
      "|Resort Hotel|          0|              July|                      2|                   5|          7|\n",
      "|Resort Hotel|          0|              July|                      2|                   5|          7|\n",
      "|Resort Hotel|          0|              July|                      2|                   5|          7|\n",
      "|Resort Hotel|          0|              July|                      2|                   5|          7|\n",
      "|Resort Hotel|          0|              July|                      2|                   5|          7|\n",
      "|Resort Hotel|          0|              July|                      4|                  10|         14|\n",
      "|Resort Hotel|          0|              July|                      4|                  11|         15|\n",
      "|Resort Hotel|          0|              July|                      2|                   4|          6|\n",
      "|Resort Hotel|          0|              July|                      1|                   3|          4|\n",
      "|Resort Hotel|          0|              July|                      1|                   3|          4|\n",
      "|Resort Hotel|          0|              July|                      2|                   3|          5|\n",
      "|Resort Hotel|          0|              July|                      2|                   3|          5|\n",
      "|Resort Hotel|          0|              July|                      2|                   3|          5|\n",
      "|Resort Hotel|          0|              July|                      2|                   3|          5|\n",
      "|Resort Hotel|          0|              July|                      2|                   5|          7|\n",
      "|Resort Hotel|          0|              July|                      2|                   5|          7|\n",
      "+------------+-----------+------------------+-----------------------+--------------------+-----------+\n",
      "only showing top 20 rows\n",
      "\n"
     ]
    }
   ],
   "source": [
    "# QUESTION: Explore the behavior of number of stays and variation in season (only success booking)\n",
    "hotelNights = hotelBooking \\\n",
    "    .select(\"hotel\",\"is_canceled\",\"arrival_date_month\",\"stays_in_weekend_nights\",\"stays_in_week_nights\") \\\n",
    "    .filter( (col(\"is_canceled\") == 0) & (col(\"stays_in_weekend_nights\") != 0) & (col(\"stays_in_week_nights\") != 0)) \\\n",
    "    .withColumn(\"total_night\", col(\"stays_in_weekend_nights\") + col(\"stays_in_week_nights\")) \\\n",
    "\n",
    "hotelNights.show()"
   ]
  },
  {
   "cell_type": "code",
   "execution_count": 22,
   "id": "fa31393b",
   "metadata": {},
   "outputs": [
    {
     "name": "stdout",
     "output_type": "stream",
     "text": [
      "+------------+----------------+----------------------------+-------------------------+------------------+\n",
      "|       hotel|avg(is_canceled)|avg(stays_in_weekend_nights)|avg(stays_in_week_nights)|  avg(total_night)|\n",
      "+------------+----------------+----------------------------+-------------------------+------------------+\n",
      "|Resort Hotel|             0.0|           1.894015503875969|        4.147968992248062| 6.041984496124031|\n",
      "|  City Hotel|             0.0|          1.5249860413176997|        2.455285687697748|3.9802717290154477|\n",
      "+------------+----------------+----------------------------+-------------------------+------------------+\n",
      "\n"
     ]
    }
   ],
   "source": [
    "# Average night at each hotel\n",
    "hotelNights.groupBy(\"hotel\").avg().show()"
   ]
  },
  {
   "cell_type": "code",
   "execution_count": 23,
   "id": "40984bff",
   "metadata": {},
   "outputs": [
    {
     "name": "stdout",
     "output_type": "stream",
     "text": [
      "+------------+------------------+---------------------+----------------------+-----------+\n",
      "|       hotel|arrival_date_month|total_nights_by_month|average_night_by_month|month_index|\n",
      "+------------+------------------+---------------------+----------------------+-----------+\n",
      "|  City Hotel|           January|                 3825|                   4.0|          1|\n",
      "|  City Hotel|          February|                 5778|                   4.0|          2|\n",
      "|  City Hotel|             March|                 7934|                   4.0|          3|\n",
      "|  City Hotel|             April|                 8179|                   4.0|          4|\n",
      "|  City Hotel|               May|                 7425|                   4.0|          5|\n",
      "|  City Hotel|              June|                 7321|                   4.0|          6|\n",
      "|  City Hotel|              July|                 9976|                   4.0|          7|\n",
      "|  City Hotel|            August|                11385|                   4.0|          8|\n",
      "|  City Hotel|         September|                 6988|                   4.0|          9|\n",
      "|  City Hotel|           October|                 7408|                   4.0|         10|\n",
      "|  City Hotel|          November|                 4867|                   4.0|         11|\n",
      "|  City Hotel|          December|                 4458|                   4.0|         12|\n",
      "|Resort Hotel|           January|                 3302|                   5.0|          1|\n",
      "|Resort Hotel|          February|                 4989|                   5.0|          2|\n",
      "|Resort Hotel|             March|                 7017|                   6.0|          3|\n",
      "|Resort Hotel|             April|                 7697|                   5.0|          4|\n",
      "|Resort Hotel|               May|                 8750|                   6.0|          5|\n",
      "|Resort Hotel|              June|                 9593|                   7.0|          6|\n",
      "|Resort Hotel|              July|                14504|                   7.0|          7|\n",
      "|Resort Hotel|            August|                14919|                   6.0|          8|\n",
      "|Resort Hotel|         September|                 9661|                   7.0|          9|\n",
      "|Resort Hotel|           October|                 7770|                   6.0|         10|\n",
      "|Resort Hotel|          November|                 5080|                   6.0|         11|\n",
      "|Resort Hotel|          December|                 4145|                   5.0|         12|\n",
      "+------------+------------------+---------------------+----------------------+-----------+\n",
      "\n"
     ]
    }
   ],
   "source": [
    "month_order = [\n",
    "    \"January\", \"February\", \"March\", \"April\", \"May\", \"June\",\n",
    "    \"July\", \"August\", \"September\", \"October\", \"November\", \"December\"\n",
    "]\n",
    "\n",
    "summaryHotelNights = hotelNights \\\n",
    "    .groupBy(\"hotel\",\"arrival_date_month\") \\\n",
    "    .agg(\n",
    "        sum(\"total_night\").alias(\"total_nights_by_month\"), \\\n",
    "        round(avg(\"total_night\")).alias(\"average_night_by_month\") \\\n",
    "    ).withColumn(\"month_index\", expr(\"array_position(array({}), arrival_date_month)\".format(\",\".join(\"'{}'\".format(month) for month in month_order)))) \\\n",
    "    .orderBy(\"hotel\",\"month_index\")\n",
    "\n",
    "summaryHotelNights.show(summaryHotelNights.count())"
   ]
  },
  {
   "cell_type": "code",
   "execution_count": 24,
   "id": "2aec3e7e",
   "metadata": {},
   "outputs": [
    {
     "name": "stdout",
     "output_type": "stream",
     "text": [
      "+------------+-----------------------+\n",
      "|       hotel|average_nights_per_year|\n",
      "+------------+-----------------------+\n",
      "|  City Hotel|                    4.0|\n",
      "|Resort Hotel|                    6.0|\n",
      "+------------+-----------------------+\n",
      "\n"
     ]
    }
   ],
   "source": [
    "# Average Night at Each Hotel\n",
    "summaryHotelNights.groupBy(\"hotel\").agg(round(avg(\"average_night_by_month\")).alias(\"average_nights_per_year\")).show()"
   ]
  },
  {
   "cell_type": "code",
   "execution_count": 25,
   "id": "c9a153ed",
   "metadata": {},
   "outputs": [
    {
     "name": "stdout",
     "output_type": "stream",
     "text": [
      "+-----+--------------+-------------+-------------+\n",
      "|agent|total_canceled|total_booking|canceled_rate|\n",
      "+-----+--------------+-------------+-------------+\n",
      "|  240|          5483|        13905|        39.43|\n",
      "|  250|           513|         2869|        17.88|\n",
      "|  242|           260|          779|        33.38|\n",
      "|   96|           244|          537|        45.44|\n",
      "|  241|           236|         1721|        13.71|\n",
      "|  134|           177|          287|        61.67|\n",
      "|   68|           165|          211|         78.2|\n",
      "|  314|           163|          927|        17.58|\n",
      "|  298|           142|          472|        30.08|\n",
      "|   38|           132|          236|        55.93|\n",
      "|  273|           121|          349|        34.67|\n",
      "|  315|           102|          256|        39.84|\n",
      "|  208|            95|          173|        54.91|\n",
      "|   15|            93|          242|        38.43|\n",
      "|  248|            83|          131|        63.36|\n",
      "|   40|            82|         1002|         8.18|\n",
      "|  177|            78|          327|        23.85|\n",
      "|   67|            76|          127|        59.84|\n",
      "|   11|            75|          105|        71.43|\n",
      "|    6|            59|          607|         9.72|\n",
      "+-----+--------------+-------------+-------------+\n",
      "only showing top 20 rows\n",
      "\n"
     ]
    }
   ],
   "source": [
    "# QUESTION: Investigate the data about agents for Resort Hotel (similar analysis can be done for City Hotel as well)\n",
    "\n",
    "agentSummary = hotelBooking \\\n",
    "    .select(col(\"agent\").cast(IntegerType()), \"is_canceled\", \"hotel\") \\\n",
    "    .filter((col(\"agent\") >= 0) & (col(\"hotel\") == \"Resort Hotel\")) \\\n",
    "    .groupBy(\"agent\")\\\n",
    "    .agg(\n",
    "        sum(\"is_canceled\").alias(\"total_canceled\"), \\\n",
    "        count(\"agent\").alias(\"total_booking\"), \\\n",
    "    ) \\\n",
    "    .withColumn(\"canceled_rate\", expr(\"round(total_canceled * 100 / total_booking, 2)\")) \\\n",
    "    .orderBy(desc(\"total_canceled\"))\n",
    "\n",
    "agentSummary.show()"
   ]
  },
  {
   "cell_type": "code",
   "execution_count": 26,
   "id": "5d0c4e6a",
   "metadata": {},
   "outputs": [
    {
     "name": "stdout",
     "output_type": "stream",
     "text": [
      "+------------+--------------+-------------+-----------------+\n",
      "|       hotel|total_canceled|total_booking|cancelation_ratio|\n",
      "+------------+--------------+-------------+-----------------+\n",
      "|Resort Hotel|         11122|        40060|            27.76|\n",
      "|  City Hotel|         33102|        79330|            41.73|\n",
      "+------------+--------------+-------------+-----------------+\n",
      "\n"
     ]
    }
   ],
   "source": [
    "# QUESTION: For each Hotel, what is the number of successful booking, canceled booking, and average cancelation \n",
    "\n",
    "hotelBookingSummary = hotelBooking \\\n",
    "    .select(\"hotel\",\"is_canceled\") \\\n",
    "    .groupBy(\"hotel\") \\\n",
    "    .agg( \\\n",
    "        sum(\"is_canceled\").alias(\"total_canceled\"), \\\n",
    "        count(\"hotel\").alias(\"total_booking\"), \\\n",
    "        round((avg(\"is_canceled\") * 100),2).alias(\"cancelation_ratio\")\n",
    "    )\n",
    "\n",
    "hotelBookingSummary.show()"
   ]
  },
  {
   "cell_type": "code",
   "execution_count": null,
   "id": "d828fb63",
   "metadata": {},
   "outputs": [],
   "source": []
  }
 ],
 "metadata": {
  "kernelspec": {
   "display_name": "Python 3 (ipykernel)",
   "language": "python",
   "name": "python3"
  },
  "language_info": {
   "codemirror_mode": {
    "name": "ipython",
    "version": 3
   },
   "file_extension": ".py",
   "mimetype": "text/x-python",
   "name": "python",
   "nbconvert_exporter": "python",
   "pygments_lexer": "ipython3",
   "version": "3.11.3"
  }
 },
 "nbformat": 4,
 "nbformat_minor": 5
}
